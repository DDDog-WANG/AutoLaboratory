{
 "cells": [
  {
   "cell_type": "code",
   "execution_count": 39,
   "id": "8589b5c1",
   "metadata": {},
   "outputs": [],
   "source": [
    "import robosuite as suite\n",
    "from robosuite.wrappers.gym_wrapper import GymWrapper\n",
    "import numpy as np\n",
    "from stable_baselines3 import DDPG , SAC, PPO\n",
    "from stable_baselines3.common.buffers import ReplayBuffer\n",
    "from stable_baselines3.common.noise import NormalActionNoise\n",
    "from sb3_contrib.common.wrappers import TimeFeatureWrapper\n",
    "import argparse\n",
    "modelpath = './models/PPO_3.0'\n",
    "\n",
    "import torch\n",
    "from torch.utils.data import Dataset,TensorDataset,random_split,DataLoader,SubsetRandomSampler\n",
    "from torch.utils.data.dataset import Subset\n",
    "import torch.nn as nn\n",
    "import torch.nn.functional as F\n",
    "from torchvision import transforms\n",
    "import torchvision.models as models"
   ]
  },
  {
   "cell_type": "code",
   "execution_count": 40,
   "id": "2d349c62",
   "metadata": {},
   "outputs": [
    {
     "name": "stdout",
     "output_type": "stream",
     "text": [
      "torch.device(cuda)\n",
      "torch.cuda.device_count():  1\n",
      "Tesla V100-SXM2-16GB\n",
      "torch.cuda.current_device() 0\n"
     ]
    }
   ],
   "source": [
    "if torch.cuda.is_available():\n",
    "    device = torch.device(\"cuda\")\n",
    "    print(\"torch.device(cuda)\")\n",
    "    print(\"torch.cuda.device_count(): \", torch.cuda.device_count())\n",
    "    for i in range(torch.cuda.device_count()):\n",
    "        print(torch.cuda.get_device_name())\n",
    "    print(\"torch.cuda.current_device()\", torch.cuda.current_device())\n",
    "else:\n",
    "    device = torch.device(\"cpu\")\n",
    "    print(\"torch.device(cpu)\")"
   ]
  },
  {
   "cell_type": "markdown",
   "id": "a444921b",
   "metadata": {},
   "source": [
    "# Train"
   ]
  },
  {
   "cell_type": "code",
   "execution_count": 11,
   "id": "bfa62456",
   "metadata": {},
   "outputs": [
    {
     "name": "stdout",
     "output_type": "stream",
     "text": [
      "Key: robot0_joint_pos_cos, Value.shape: (15,)\n",
      "Key: robot0_joint_pos_sin, Value.shape: (15,)\n",
      "Key: robot0_joint_vel, Value.shape: (15,)\n",
      "Key: robot0_right_eef_pos, Value.shape: (3,)\n",
      "Key: robot0_right_eef_quat, Value.shape: (4,)\n",
      "Key: robot0_right_gripper_qpos, Value.shape: (2,)\n",
      "Key: robot0_right_gripper_qvel, Value.shape: (2,)\n",
      "Key: robot0_left_eef_pos, Value.shape: (3,)\n",
      "Key: robot0_left_eef_quat, Value.shape: (4,)\n",
      "Key: robot0_left_gripper_qpos, Value.shape: (2,)\n",
      "Key: robot0_left_gripper_qvel, Value.shape: (2,)\n",
      "Key: tube_initial_pos, Value.shape: (3,)\n",
      "Key: pipette_initial_pos, Value.shape: (3,)\n",
      "Key: pipette004_pos, Value.shape: (3,)\n",
      "Key: pipette004_quat, Value.shape: (4,)\n",
      "Key: tube008_pos, Value.shape: (3,)\n",
      "Key: tube008_quat, Value.shape: (4,)\n",
      "Key: gripper1_to_pipette004, Value.shape: (3,)\n",
      "Key: pipette004_to_tube008, Value.shape: (3,)\n",
      "Key: tube008_to_initial, Value.shape: (3,)\n",
      "Key: pipette004_to_initial, Value.shape: (3,)\n",
      "Key: robot0_proprio-state, Value.shape: (67,)\n",
      "Key: object-state, Value.shape: (32,)\n"
     ]
    }
   ],
   "source": [
    "env = suite.make(\n",
    "    \"MaholoLaboratory\",\n",
    "    \"Maholo\",\n",
    "    has_renderer=False,\n",
    "    has_offscreen_renderer=False,\n",
    "    use_camera_obs=False,\n",
    "    control_freq=50,\n",
    "    render_camera=\"frontview\",\n",
    "    render_gpu_device_id=0,\n",
    "    horizon=400,\n",
    ")\n",
    "for key,value in env.reset().items():\n",
    "    print(f\"Key: {key}, Value.shape: {value.shape}\", flush=True)"
   ]
  },
  {
   "cell_type": "code",
   "execution_count": 12,
   "id": "a2046ea6",
   "metadata": {},
   "outputs": [
    {
     "name": "stdout",
     "output_type": "stream",
     "text": [
      "TimeFeature GYM Wrapper obs.shape: (100,)\n"
     ]
    }
   ],
   "source": [
    "env = GymWrapper(env)\n",
    "env = TimeFeatureWrapper(env)\n",
    "print(f\"TimeFeature GYM Wrapper obs.shape: {env.reset().shape}\", flush=True)"
   ]
  },
  {
   "cell_type": "code",
   "execution_count": 29,
   "id": "19415bce",
   "metadata": {},
   "outputs": [
    {
     "name": "stdout",
     "output_type": "stream",
     "text": [
      "n_actions: 17\n",
      "Using cuda device\n",
      "Wrapping the env with a `Monitor` wrapper\n",
      "Wrapping the env in a DummyVecEnv.\n"
     ]
    }
   ],
   "source": [
    "model_name = \"SAC\"\n",
    "learning_rate = 0.001\n",
    "total_timesteps = 400*1\n",
    "policy_kwargs = {'net_arch' : [512, 512, 512, 512], \n",
    "                'n_critics' : 4,\n",
    "                }\n",
    "n_actions = env.robots[0].action_dim\n",
    "print(f\"n_actions: {n_actions}\", flush=True)\n",
    "action_noise = NormalActionNoise(mean=np.zeros(n_actions), sigma=0.2)\n",
    "\n",
    "if model_name == \"DDPG\":\n",
    "    model = DDPG(policy=\"MlpPolicy\", env=env, replay_buffer_class=ReplayBuffer, verbose=1, gamma=0.95, batch_size=4096, \n",
    "                buffer_size=100000, learning_rate=learning_rate, action_noise=action_noise, policy_kwargs=policy_kwargs)\n",
    "elif model_name == \"SAC\":\n",
    "    model = SAC(policy=\"MlpPolicy\", env=env, replay_buffer_class=ReplayBuffer, verbose=1, gamma = 0.95, batch_size=4096, \n",
    "                buffer_size=100000, learning_rate=learning_rate, action_noise=action_noise, policy_kwargs=policy_kwargs)\n",
    "elif model_name == \"PPO\":\n",
    "    model = PPO(policy=\"MlpPolicy\", env=env, verbose=1, gamma=0.95, batch_size=4096)"
   ]
  },
  {
   "cell_type": "code",
   "execution_count": 33,
   "id": "8c31190f",
   "metadata": {
    "scrolled": true
   },
   "outputs": [
    {
     "name": "stdout",
     "output_type": "stream",
     "text": [
      "<stable_baselines3.sac.sac.SAC object at 0x149521d85120>\n",
      "Actor(\n",
      "  (features_extractor): FlattenExtractor(\n",
      "    (flatten): Flatten(start_dim=1, end_dim=-1)\n",
      "  )\n",
      "  (latent_pi): Sequential(\n",
      "    (0): Linear(in_features=100, out_features=512, bias=True)\n",
      "    (1): ReLU()\n",
      "    (2): Linear(in_features=512, out_features=512, bias=True)\n",
      "    (3): ReLU()\n",
      "    (4): Linear(in_features=512, out_features=512, bias=True)\n",
      "    (5): ReLU()\n",
      "    (6): Linear(in_features=512, out_features=512, bias=True)\n",
      "    (7): ReLU()\n",
      "  )\n",
      "  (mu): Linear(in_features=512, out_features=17, bias=True)\n",
      "  (log_std): Linear(in_features=512, out_features=17, bias=True)\n",
      ")\n",
      "#############################################################\n",
      "ContinuousCritic(\n",
      "  (features_extractor): FlattenExtractor(\n",
      "    (flatten): Flatten(start_dim=1, end_dim=-1)\n",
      "  )\n",
      "  (qf0): Sequential(\n",
      "    (0): Linear(in_features=117, out_features=512, bias=True)\n",
      "    (1): ReLU()\n",
      "    (2): Linear(in_features=512, out_features=512, bias=True)\n",
      "    (3): ReLU()\n",
      "    (4): Linear(in_features=512, out_features=512, bias=True)\n",
      "    (5): ReLU()\n",
      "    (6): Linear(in_features=512, out_features=512, bias=True)\n",
      "    (7): ReLU()\n",
      "    (8): Linear(in_features=512, out_features=1, bias=True)\n",
      "  )\n",
      "  (qf1): Sequential(\n",
      "    (0): Linear(in_features=117, out_features=512, bias=True)\n",
      "    (1): ReLU()\n",
      "    (2): Linear(in_features=512, out_features=512, bias=True)\n",
      "    (3): ReLU()\n",
      "    (4): Linear(in_features=512, out_features=512, bias=True)\n",
      "    (5): ReLU()\n",
      "    (6): Linear(in_features=512, out_features=512, bias=True)\n",
      "    (7): ReLU()\n",
      "    (8): Linear(in_features=512, out_features=1, bias=True)\n",
      "  )\n",
      "  (qf2): Sequential(\n",
      "    (0): Linear(in_features=117, out_features=512, bias=True)\n",
      "    (1): ReLU()\n",
      "    (2): Linear(in_features=512, out_features=512, bias=True)\n",
      "    (3): ReLU()\n",
      "    (4): Linear(in_features=512, out_features=512, bias=True)\n",
      "    (5): ReLU()\n",
      "    (6): Linear(in_features=512, out_features=512, bias=True)\n",
      "    (7): ReLU()\n",
      "    (8): Linear(in_features=512, out_features=1, bias=True)\n",
      "  )\n",
      "  (qf3): Sequential(\n",
      "    (0): Linear(in_features=117, out_features=512, bias=True)\n",
      "    (1): ReLU()\n",
      "    (2): Linear(in_features=512, out_features=512, bias=True)\n",
      "    (3): ReLU()\n",
      "    (4): Linear(in_features=512, out_features=512, bias=True)\n",
      "    (5): ReLU()\n",
      "    (6): Linear(in_features=512, out_features=512, bias=True)\n",
      "    (7): ReLU()\n",
      "    (8): Linear(in_features=512, out_features=1, bias=True)\n",
      "  )\n",
      ")\n"
     ]
    }
   ],
   "source": [
    "print(model)\n",
    "# print(model.policy)\n",
    "print(model.actor)\n",
    "print(\"#############################################################\")\n",
    "print(model.critic)"
   ]
  },
  {
   "cell_type": "code",
   "execution_count": 52,
   "id": "bf7a8fb8",
   "metadata": {
    "scrolled": true
   },
   "outputs": [
    {
     "data": {
      "text/plain": [
       "Actor(\n",
       "  (features_extractor): FlattenExtractor(\n",
       "    (flatten): Flatten(start_dim=1, end_dim=-1)\n",
       "  )\n",
       "  (latent_pi): Sequential(\n",
       "    (0): Linear(in_features=100, out_features=512, bias=True)\n",
       "    (1): ReLU()\n",
       "    (2): Linear(in_features=512, out_features=512, bias=True)\n",
       "    (3): ReLU()\n",
       "    (4): Linear(in_features=512, out_features=512, bias=True)\n",
       "    (5): ReLU()\n",
       "    (6): Linear(in_features=512, out_features=512, bias=True)\n",
       "    (7): ReLU()\n",
       "  )\n",
       "  (mu): Linear(in_features=512, out_features=17, bias=True)\n",
       "  (log_std): Linear(in_features=512, out_features=17, bias=True)\n",
       ")"
      ]
     },
     "execution_count": 52,
     "metadata": {},
     "output_type": "execute_result"
    }
   ],
   "source": [
    "actor_model = model.policy.actor\n",
    "actor_model.to(device)"
   ]
  },
  {
   "cell_type": "code",
   "execution_count": 53,
   "id": "02d48883",
   "metadata": {
    "scrolled": true
   },
   "outputs": [
    {
     "data": {
      "text/plain": [
       "ContinuousCritic(\n",
       "  (features_extractor): FlattenExtractor(\n",
       "    (flatten): Flatten(start_dim=1, end_dim=-1)\n",
       "  )\n",
       "  (qf0): Sequential(\n",
       "    (0): Linear(in_features=117, out_features=512, bias=True)\n",
       "    (1): ReLU()\n",
       "    (2): Linear(in_features=512, out_features=512, bias=True)\n",
       "    (3): ReLU()\n",
       "    (4): Linear(in_features=512, out_features=512, bias=True)\n",
       "    (5): ReLU()\n",
       "    (6): Linear(in_features=512, out_features=512, bias=True)\n",
       "    (7): ReLU()\n",
       "    (8): Linear(in_features=512, out_features=1, bias=True)\n",
       "  )\n",
       "  (qf1): Sequential(\n",
       "    (0): Linear(in_features=117, out_features=512, bias=True)\n",
       "    (1): ReLU()\n",
       "    (2): Linear(in_features=512, out_features=512, bias=True)\n",
       "    (3): ReLU()\n",
       "    (4): Linear(in_features=512, out_features=512, bias=True)\n",
       "    (5): ReLU()\n",
       "    (6): Linear(in_features=512, out_features=512, bias=True)\n",
       "    (7): ReLU()\n",
       "    (8): Linear(in_features=512, out_features=1, bias=True)\n",
       "  )\n",
       "  (qf2): Sequential(\n",
       "    (0): Linear(in_features=117, out_features=512, bias=True)\n",
       "    (1): ReLU()\n",
       "    (2): Linear(in_features=512, out_features=512, bias=True)\n",
       "    (3): ReLU()\n",
       "    (4): Linear(in_features=512, out_features=512, bias=True)\n",
       "    (5): ReLU()\n",
       "    (6): Linear(in_features=512, out_features=512, bias=True)\n",
       "    (7): ReLU()\n",
       "    (8): Linear(in_features=512, out_features=1, bias=True)\n",
       "  )\n",
       "  (qf3): Sequential(\n",
       "    (0): Linear(in_features=117, out_features=512, bias=True)\n",
       "    (1): ReLU()\n",
       "    (2): Linear(in_features=512, out_features=512, bias=True)\n",
       "    (3): ReLU()\n",
       "    (4): Linear(in_features=512, out_features=512, bias=True)\n",
       "    (5): ReLU()\n",
       "    (6): Linear(in_features=512, out_features=512, bias=True)\n",
       "    (7): ReLU()\n",
       "    (8): Linear(in_features=512, out_features=1, bias=True)\n",
       "  )\n",
       ")"
      ]
     },
     "execution_count": 53,
     "metadata": {},
     "output_type": "execute_result"
    }
   ],
   "source": [
    "critic_model = model.policy.critic\n",
    "critic_model.to(device)"
   ]
  },
  {
   "cell_type": "code",
   "execution_count": 61,
   "id": "f66185b8",
   "metadata": {},
   "outputs": [
    {
     "name": "stdout",
     "output_type": "stream",
     "text": [
      "torch.Size([1, 17])\n"
     ]
    }
   ],
   "source": [
    "# test actor model\n",
    "test_input = torch.ones(1, 100).to(device)\n",
    "test_output = actor_model(test_input)\n",
    "print(test_output.size())"
   ]
  },
  {
   "cell_type": "code",
   "execution_count": 64,
   "id": "908c5859",
   "metadata": {},
   "outputs": [
    {
     "name": "stdout",
     "output_type": "stream",
     "text": [
      "Critic 1 Output: -0.005036994814872742\n",
      "Critic 2 Output: -0.008083839900791645\n",
      "Critic 3 Output: -0.02584124729037285\n",
      "Critic 4 Output: -0.039726100862026215\n"
     ]
    }
   ],
   "source": [
    "# test critic model\n",
    "state_input = torch.ones(1, 100).to(device)\n",
    "action_input = torch.ones(1, 17).to(device)\n",
    "\n",
    "test_output = critic_model(state_input, action_input)\n",
    "for i, value in enumerate(test_output):\n",
    "    print(f\"Critic {i + 1} Output:\", value.item())"
   ]
  },
  {
   "cell_type": "code",
   "execution_count": null,
   "id": "68252d8d",
   "metadata": {},
   "outputs": [],
   "source": []
  },
  {
   "cell_type": "code",
   "execution_count": 9,
   "id": "8e60e5f3",
   "metadata": {},
   "outputs": [
    {
     "name": "stdout",
     "output_type": "stream",
     "text": [
      "Saved to  ./models/DDPG\n"
     ]
    }
   ],
   "source": [
    "model.learn(total_timesteps=1000)\n",
    "model.save(modelpath)\n",
    "print(\"Saved to \", modelpath)"
   ]
  },
  {
   "cell_type": "code",
   "execution_count": null,
   "id": "31e45f36",
   "metadata": {},
   "outputs": [],
   "source": []
  },
  {
   "cell_type": "markdown",
   "id": "63c938f0",
   "metadata": {},
   "source": [
    "***"
   ]
  },
  {
   "cell_type": "markdown",
   "id": "7088d246",
   "metadata": {},
   "source": [
    "# Render"
   ]
  },
  {
   "cell_type": "code",
   "execution_count": 4,
   "id": "58a4e0c9",
   "metadata": {},
   "outputs": [
    {
     "name": "stdout",
     "output_type": "stream",
     "text": [
      "Wrapping the env with a `Monitor` wrapper\n",
      "Wrapping the env in a DummyVecEnv.\n"
     ]
    }
   ],
   "source": [
    "env = suite.make(\n",
    "    env_name=\"Lift\",\n",
    "    robots=\"Panda\",\n",
    "    has_renderer=True,\n",
    "    has_offscreen_renderer=True,\n",
    "    use_camera_obs=False,\n",
    "    control_freq=50,\n",
    "    horizon = 50,\n",
    ")\n",
    "env = GymWrapper(env)\n",
    "env = TimeFeatureWrapper(env)\n",
    "model = DDPG.load(modelpath, env = env)"
   ]
  },
  {
   "cell_type": "code",
   "execution_count": 5,
   "id": "ff41f948",
   "metadata": {},
   "outputs": [],
   "source": [
    "done = False\n",
    "obs = env.reset()\n",
    "while not done:\n",
    "    action, _states = model.predict(obs, deterministic = True)\n",
    "    obs, reward, done, _ = env.step(action)\n",
    "    env.unwrapped.render()\n",
    "env.close()"
   ]
  },
  {
   "cell_type": "code",
   "execution_count": null,
   "id": "45d01bbf",
   "metadata": {},
   "outputs": [],
   "source": []
  }
 ],
 "metadata": {
  "kernelspec": {
   "display_name": "Python 3 (ipykernel)",
   "language": "python",
   "name": "python3"
  },
  "language_info": {
   "codemirror_mode": {
    "name": "ipython",
    "version": 3
   },
   "file_extension": ".py",
   "mimetype": "text/x-python",
   "name": "python",
   "nbconvert_exporter": "python",
   "pygments_lexer": "ipython3",
   "version": "3.10.10"
  }
 },
 "nbformat": 4,
 "nbformat_minor": 5
}
